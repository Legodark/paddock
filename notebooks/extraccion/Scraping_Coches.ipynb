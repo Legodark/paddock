{
  "cells": [
    {
      "cell_type": "markdown",
      "metadata": {
        "id": "XCsIVsbUKvma"
      },
      "source": [
        "# Scraping de los datos\n",
        "\n",
        "En este cuaderno nos encargaremos del web scraping para la obtención de datos del primer modelo de predicciones de precios de coche\n",
        "\n",
        "## Instalación de librerías\n",
        "\n",
        "Las librerias que necesitaremos son:\n",
        "\n",
        "* requests\n",
        "* beautifulsoup4\n",
        "\n",
        "requests hará las peticiones y extraera la web mientras que beautifulsoup4 se encargará del scraping buscando elementos especificos en la web extraida."
      ]
    },
    {
      "cell_type": "code",
      "execution_count": 1,
      "metadata": {
        "colab": {
          "base_uri": "https://localhost:8080/"
        },
        "id": "do2QLJhvsdhr",
        "outputId": "6fd2bca2-952c-4555-f63f-2a1ea1cb7c89"
      },
      "outputs": [
        {
          "name": "stdout",
          "output_type": "stream",
          "text": [
            "Looking in indexes: https://pypi.org/simple, https://us-python.pkg.dev/colab-wheels/public/simple/\n",
            "Requirement already satisfied: requests in /usr/local/lib/python3.8/dist-packages (2.25.1)\n",
            "Requirement already satisfied: beautifulsoup4 in /usr/local/lib/python3.8/dist-packages (4.6.3)\n",
            "Requirement already satisfied: idna<3,>=2.5 in /usr/local/lib/python3.8/dist-packages (from requests) (2.10)\n",
            "Requirement already satisfied: urllib3<1.27,>=1.21.1 in /usr/local/lib/python3.8/dist-packages (from requests) (1.24.3)\n",
            "Requirement already satisfied: chardet<5,>=3.0.2 in /usr/local/lib/python3.8/dist-packages (from requests) (4.0.0)\n",
            "Requirement already satisfied: certifi>=2017.4.17 in /usr/local/lib/python3.8/dist-packages (from requests) (2022.12.7)\n"
          ]
        }
      ],
      "source": [
        "!pip install requests beautifulsoup4"
      ]
    },
    {
      "cell_type": "markdown",
      "metadata": {
        "id": "3XDTgrMoOSRZ"
      },
      "source": [
        "## Importación de las librerías\n",
        "\n",
        "* requests: Para peticciones http\n",
        "* beautifulsoup: Para scraping\n",
        "* numpy: Para transformaciones de array numericos\n",
        "* re: Para extraer patrones especificos de textos en la web\n",
        "* pandas: Para guardar los datos extraidos"
      ]
    },
    {
      "cell_type": "code",
      "execution_count": 2,
      "metadata": {
        "id": "mdDOcC1WKlA3"
      },
      "outputs": [],
      "source": [
        "import requests\n",
        "from bs4 import BeautifulSoup\n",
        "import numpy as np\n",
        "import re\n",
        "import pandas as pd"
      ]
    },
    {
      "cell_type": "markdown",
      "metadata": {
        "id": "2WFplVXiOvfD"
      },
      "source": [
        "## Abrir acceso al drive\n",
        "\n",
        "Lo necesitaremos para guardar nuestros datos en un csv que a su vez estará guardado en el drive y asi evitaremos que se pierda el archivo"
      ]
    },
    {
      "cell_type": "code",
      "execution_count": 3,
      "metadata": {
        "colab": {
          "base_uri": "https://localhost:8080/"
        },
        "id": "CiuVpow6vob0",
        "outputId": "637a0541-158b-4e6c-f5ae-cbac5e05ba75"
      },
      "outputs": [
        {
          "name": "stdout",
          "output_type": "stream",
          "text": [
            "Mounted at /content/drive\n"
          ]
        }
      ],
      "source": [
        "from google.colab import drive\n",
        "drive.mount('/content/drive')"
      ]
    },
    {
      "cell_type": "markdown",
      "metadata": {
        "id": "mJb23yE3O9zc"
      },
      "source": [
        "## Declaración de variables\n",
        "\n",
        "Declararemos las siguientes variables:\n",
        "\n",
        "* URL: Guardaremos el link de la pagina que vamos a extraer\n",
        "* header: Las cabeceras necesarias para que nuestra araña pueda scrapear sin problemas la web\n",
        "* marcas: Aqui tendremos las marcas de coches que iremos extrayendo\n",
        "* provincias: Tambien necesitaremos filtrar por provincias y asi tener resultados mas precisos."
      ]
    },
    {
      "cell_type": "code",
      "execution_count": 4,
      "metadata": {
        "id": "IGVw_BRQPBhW"
      },
      "outputs": [],
      "source": [
        "URL = \"https://www.autocasion.com/coches-ocasion?page=\"\n",
        "hdr = {'User-Agent':'Mozilla/5.0 (Windows NT 10.0; Win64; x64) AppleWebKit/537.36 (KHTML, like Gecko) Chrome/108.0.0.0 Safari/537.36 OPR/94.0.0.0',\n",
        "       \"accept\": \"text/html,application/xhtml+xml,application/xml;q=0.9,image/avif,image/webp,image/apng,*/*;q=0.8,application/signed-exchange;v=b3;q=0.9\",\n",
        "       \"Connection\": \"keep-alive\",\n",
        "       \"Content-Encoding\": \"gzip\",\n",
        "       \"Server-Timing\": \"matchRoutes;dur=3.3495839999999997,contextCreation;dur=2.152044,getInitialProps;dur=243.662208,renderToString;dur=18.667548999999998\",\n",
        "       \"Vary\": \"Accept-Encoding\",\n",
        "       \"Strict-Transport-Security\": \"max-age=31536000; includeSubDomains\",}\n",
        "\n",
        "marcas = [\"abarth\", \"ac\", \"alfa-romeo\", \"alpine\", \"aston-martin\", \"audi\", \"bentley\", \"bmw\", \"cadillac\", \"chevrolet\",\n",
        "          \"chrysler\", \"citroen\", \"cupra\", \"dacia\", \"daewoo\", \"dfsk\", \"dodge\", \"ds\", \"ferrari\", \"fiat\", \"fisker\", \"ford\",\n",
        "          \"galloper\", \"honda\", \"hummer\", \"hyundai\", \"infiniti\", \"jaguar\", \"jeep\", \"kia\", \"lamborghini\", \"lancia\", \"land-rover\",\n",
        "          \"lexus\", \"lynk-co\", \"lotus\", \"maserati\", \"maybach\", \"mazda\", \"mclaren\", \"mercedes-benz\", \"mg\", \"mini\", \"mitsubishi\",\n",
        "          \"morgan\", \"nissan\", \"opel\", \"peugeot\", \"plymouth\", \"porsche\", \"renault\", \"rolls-royce\", \"rover\", \"saab\", \"seat\", \"skoda\", \"smart\", \"ssangyong\",\n",
        "          \"subaru\", \"suzuki\", \"swm\", \"tesla\", \"toyota\", \"volkswagen\", \"volvo\", \"wiesmann\"]\n",
        "provincias = [\"alava\", \"albacete\", \"alicante\", \"almeria\", \"asturias\", \"avila\", \"badajoz\", \"barcelona\", \"burgos\", \"caceres\", \"cadiz\", \"cantabria\",\n",
        "              \"castellon\", \"ceuta\", \"ciudad-real\", \"cordoba\", \"cuenca\", \"girona\", \"granada\", \"guadalajara\", \"guipuzcoa\", \"huelva\", \"huesca\", \"islas-baleares\",\n",
        "              \"jaen\", \"la-coruna\", \"la-rioja\", \"las-palmas\", \"leon\", \"lleida\", \"lugo\", \"madrid\", \"malaga\", \"melilla\", \"murcia\", \"navarra\", \"orense\", \"palencia\",\n",
        "              \"pontevedra\", \"salamanca\", \"segovia\", \"sevilla\", \"soria\", \"sta-c-de-tenerife\", \"tarragona\", \"teruel\", \"toledo\", \"valencia\", \"valladolid\", \"vizcaya\",\n",
        "              \"zamora\", \"zaragoza\"]"
      ]
    },
    {
      "cell_type": "markdown",
      "metadata": {
        "id": "hBrRnpF1QEN1"
      },
      "source": [
        "## Creación del dataframe\n",
        "\n",
        "Aqui crearemos la estructura de datos para nuestros datos que luego pasarán a ser analizados."
      ]
    },
    {
      "cell_type": "code",
      "execution_count": 5,
      "metadata": {
        "id": "hk5ThzK6QB7N"
      },
      "outputs": [],
      "source": [
        "columns = ['localidad', 'marca', 'modelo', 'año', 'motor (CV)', 'motor (KW)', 'kilometros',\n",
        "                                 'combustible', 'puertas', 'cambio', 'emisiones', 'color', 'garantía', 'vendedor', \n",
        "                                 'precio', 'maletero', 'longitud', 'altura', 'anchura', 'plazas', 'deposito', 'peso max',\n",
        "                                 'carroceria', 'vel. maxima', 'c. mixto', 'c. urbano', 'extraurbano', '0-100 km/h',\n",
        "                                 'cilindrada', 'cilindros', 'transmisión', 'par maximo', 'marchas', 'traccion']\n",
        "car_data = pd.DataFrame(columns=columns)"
      ]
    },
    {
      "cell_type": "markdown",
      "metadata": {
        "id": "4R5ITBFIQWke"
      },
      "source": [
        "## Scraping\n",
        "\n",
        "Aqui nos pondremos a realizar el scraping y ir extrayendo datos y guardarlos"
      ]
    },
    {
      "cell_type": "code",
      "execution_count": null,
      "metadata": {
        "id": "axSIkni-sX9y"
      },
      "outputs": [],
      "source": [
        "for marca in marcas:\n",
        "  URL = f\"https://www.autocasion.com/coches-segunda-mano/{marca}-ocasion\"\n",
        "  print(marca)\n",
        "  for provincia in provincias:\n",
        "    temp_url = URL + f\"/{provincia}\"\n",
        "    print(provincia)\n",
        "    for i in range(1, 625):\n",
        "      req = requests.get(temp_url + \"?page=\" + str(i))\n",
        "      print(temp_url + \"?page=\" + str(i))\n",
        "      page = req.content\n",
        "      soup = BeautifulSoup(page, \"html.parser\")\n",
        "      result = soup.find_all(\"article\", class_=\"anuncio\")\n",
        "      if len(result) == 0:\n",
        "        break\n",
        "      for tag in result:\n",
        "        carurl = tag.findChild(\"a\" , recursive=False)[\"href\"]\n",
        "        url = \"https://www.autocasion.com\" + carurl\n",
        "        reqcar = requests.get(url)\n",
        "        pagecar = reqcar.content\n",
        "        soupcar = BeautifulSoup(pagecar, \"html.parser\")\n",
        "        result2 = soupcar.find(\"p\", class_=\"direccion\")\n",
        "        try:\n",
        "          localidad = result2.findChild(\"span\").text[1:-1]\n",
        "          marca = soupcar.find(\"ul\", class_=\"breadcrumb\").select(\"li\")[1].findChild(\"span\").text\n",
        "          modelo = marca + \" \" + soupcar.find(\"ul\", class_=\"breadcrumb\").select(\"li\")[3].findChild(\"span\").text\n",
        "          año = soupcar.find(\"div\", class_=\"titulo-ficha\").select(\"span\")[1].text\n",
        "          kilometros = soupcar.find(\"div\", class_=\"titulo-ficha\").select(\"span\")[3].text[:-3].replace(\".\",\"\")\n",
        "          cambio = soupcar.find(\"ul\", class_=\"datos-basicos-ficha\").select(\"li\")[4].select(\"span\")[0].text\n",
        "          color = soupcar.find(\"ul\", class_=\"datos-basicos-ficha\").select(\"li\")[7].select(\"span\")[0].text.replace(\"\\n\", \"\").strip()\n",
        "          garantia_extraida = soupcar.find(\"ul\", class_=\"datos-basicos-ficha\").select(\"li\")[6].select(\"span\")[0].text[0:-6]\n",
        "          garantia = \"No\" if garantia_extraida == \"0\" else \"Sí\"\n",
        "          vendedor = soupcar.find(\"div\", class_=\"datos-concesionario\").select(\"p\")[0].text[9:]\n",
        "          precio = soupcar.find(\"div\", class_=\"precio\").select(\"span\")[0].text.strip()[0:-2].replace(\".\",\"\")\n",
        "          cv = soupcar.find(\"ul\", class_=\"tab-spec-4\").select(\"li\")[1].text[13:]\n",
        "          combustible = soupcar.find(\"ul\", class_=\"tab-spec-2\").select(\"li\")[0].text[11:]\n",
        "          n_puertas = soupcar.find(\"ul\", class_=\"tab-spec-1\").select(\"li\")[5].text[17:]\n",
        "          emision_extraida = soupcar.find(\"ul\", class_=\"tab-spec-5\").select(\"li\")[3].text[10:]\n",
        "          emisiones = \"0\" if emision_extraida == \"-\" else emision_extraida\n",
        "          maletero = max(np.int_(soupcar.find(\"ul\", class_=\"tab-spec-1\").select(\"li\")[2].text[26:].replace(\".\", \"\").split(\"/\")))\n",
        "          longitud = float(soupcar.find(\"ul\", class_=\"tab-spec-1\").select(\"li\")[0].select(\"span\")[0].text[6:-3].replace(\".\", \"\")) / 10\n",
        "          altura = float(soupcar.find(\"ul\", class_=\"tab-spec-1\").select(\"li\")[0].select(\"span\")[2].text[5:-3].replace(\".\", \"\")) / 10\n",
        "          anchura = float(soupcar.find(\"ul\", class_=\"tab-spec-1\").select(\"li\")[0].select(\"span\")[1].text[6:-3].replace(\".\", \"\")) / 10\n",
        "          plazas = soupcar.find(\"ul\", class_=\"tab-spec-1\").select(\"li\")[-1].text[16:]\n",
        "          deposito = soupcar.find(\"ul\", class_=\"tab-spec-5\").select(\"li\")[-1].text[27:]\n",
        "          peso_max = soupcar.find(\"ul\", class_=\"tab-spec-1\").select(\"li\")[3].text[30:]\n",
        "          carroceria = soupcar.find(\"ul\", class_=\"tab-spec-1\").select(\"li\")[4].text[10:]\n",
        "          velocidad_maxima_extraida = soupcar.find(\"ul\", class_=\"tab-spec-4\").select(\"li\")[3].text[23:]\n",
        "          velocidad_maxima = \"0\" if velocidad_maxima_extraida == \"-\" else velocidad_maxima_extraida\n",
        "          c_mixto = soupcar.find(\"ul\", class_=\"tab-spec-5\").select(\"li\")[2].text[16:]\n",
        "          c_urbano = soupcar.find(\"ul\", class_=\"tab-spec-5\").select(\"li\")[0].text[17:]\n",
        "          extraurbano = soupcar.find(\"ul\", class_=\"tab-spec-5\").select(\"li\")[1].text[20:]\n",
        "          aceleracion = soupcar.find(\"ul\", class_=\"tab-spec-4\").select(\"li\")[-1].text[26:]\n",
        "          engine_kw = soupcar.find(\"ul\", class_=\"tab-spec-4\").select(\"li\")[0].text[13:]\n",
        "          cilindrada = soupcar.find(\"ul\", class_=\"tab-spec-2\").select(\"li\")[1].text[16:].replace(\".\",\"\")\n",
        "          cilindros_extraido = soupcar.find(\"ul\", class_=\"tab-spec-2\").select(\"li\")[2].text[19:]\n",
        "          cilindros = \"0\" if cilindros_extraido == \"-\" else cilindros_extraido\n",
        "          transmision = soupcar.find(\"ul\", class_=\"tab-spec-3\").select(\"li\")[1].text[19:]\n",
        "          par_maximo = soupcar.find(\"ul\", class_=\"tab-spec-4\").select(\"li\")[2].text[8:]\n",
        "          marchas = soupcar.find(\"ul\", class_=\"tab-spec-3\").select(\"li\")[2].text[17:]\n",
        "          traccion = soupcar.find(\"ul\", class_=\"tab-spec-3\").select(\"li\")[0].text[8:]\n",
        "        except:\n",
        "          continue\n",
        "        datos_coche = [localidad, marca, modelo, año, cv, engine_kw, kilometros, combustible, n_puertas, cambio, emisiones, color, garantia,\n",
        "                        vendedor, precio, maletero, longitud, altura, anchura, plazas, deposito, peso_max, carroceria, velocidad_maxima,\n",
        "                        c_mixto, c_urbano, extraurbano, aceleracion, cilindrada, cilindros, transmision, par_maximo, marchas, traccion]\n",
        "        car_data.loc[len(car_data)] = datos_coche\n",
        "\n",
        "car_data"
      ]
    },
    {
      "cell_type": "markdown",
      "metadata": {
        "id": "vzoU8tqQQkES"
      },
      "source": [
        "## Randomizar los datos\n",
        "\n",
        "Será necesario randomizar los datos para que en el entrenamiento se consiga un mejor resultado debido a que tendrá diferentes tipos de datos"
      ]
    },
    {
      "cell_type": "code",
      "execution_count": null,
      "metadata": {
        "id": "3slZN_aNs57p"
      },
      "outputs": [],
      "source": [
        "car_data = car_data.sample(frac=1)"
      ]
    },
    {
      "cell_type": "markdown",
      "metadata": {
        "id": "36l9nLCGQytG"
      },
      "source": [
        "## Guardado de datos\n",
        "\n",
        "Aqui acabaremos ya guardando el dataframe en un csv que luego se guarda en el drive y lo tendremos listo para que hagamos analisis y entrenamiento con esos datos"
      ]
    },
    {
      "cell_type": "code",
      "execution_count": null,
      "metadata": {
        "id": "kFijGTe3txrh"
      },
      "outputs": [],
      "source": [
        "car_data.to_csv(\"/content/drive/MyDrive/Marcas_coches/car_data.csv\")"
      ]
    }
  ],
  "metadata": {
    "colab": {
      "provenance": []
    },
    "kernelspec": {
      "display_name": "Python 3",
      "name": "python3"
    },
    "language_info": {
      "name": "python"
    }
  },
  "nbformat": 4,
  "nbformat_minor": 0
}
