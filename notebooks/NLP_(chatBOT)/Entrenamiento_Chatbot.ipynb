{
  "nbformat": 4,
  "nbformat_minor": 0,
  "metadata": {
    "colab": {
      "provenance": []
    },
    "kernelspec": {
      "name": "python3",
      "display_name": "Python 3"
    },
    "language_info": {
      "name": "python"
    }
  },
  "cells": [
    {
      "cell_type": "markdown",
      "source": [
        "# ChatBot\n",
        "\n",
        "## Imagen general / problema a resolver\n",
        "\n",
        "Este modelo debe clasificar cada conversacion y comprobar si es de un contexto u otro\n",
        "\n",
        "El objetivo de este modelo es crear un chatbot que responda consultas de los usuarios\n",
        "\n",
        "Vamos a tener los siguientes datos sobre los emails\n",
        "\n",
        "* Mensaje\n",
        "* Contexto\n",
        "\n",
        "Con la informacion de que disponemos, se trata de un sistema **supervisado**\n",
        "\n",
        "Estamos ante un problema tipico de **clasificación**, ya que queremos separar los mensajes de un contexto de otro\n"
      ],
      "metadata": {
        "id": "PWOj38wkEOA7"
      }
    },
    {
      "cell_type": "markdown",
      "source": [
        "## Obtención de datos\n",
        "\n",
        "Los datos los crearemos nosotros"
      ],
      "metadata": {
        "id": "RCnPQ_S06718"
      }
    },
    {
      "cell_type": "markdown",
      "source": [
        "Importamos Numpy, Pandas, Matplotlib, Seaborn"
      ],
      "metadata": {
        "id": "FbxTjLnB7DLn"
      }
    },
    {
      "cell_type": "code",
      "execution_count": 39,
      "metadata": {
        "id": "NIzYP1RcZrxM"
      },
      "outputs": [],
      "source": [
        "import numpy as np\n",
        "import pandas as pd\n",
        "import matplotlib.pyplot as plt\n",
        "import seaborn as sns\n",
        "%matplotlib inline"
      ]
    },
    {
      "cell_type": "markdown",
      "source": [
        "Creamos los datos para nuestro entrenamiento"
      ],
      "metadata": {
        "id": "Qlf5kAia7L48"
      }
    },
    {
      "cell_type": "code",
      "source": [
        "message_data = pd.read_csv(\"/content/drive/MyDrive/Message_Dataset/message_data.csv\")\n",
        "message_data"
      ],
      "metadata": {
        "colab": {
          "base_uri": "https://localhost:8080/",
          "height": 423
        },
        "id": "hQenbdTg7Pjj",
        "outputId": "ef562253-0613-4a2a-99e7-e532d6f37388"
      },
      "execution_count": 40,
      "outputs": [
        {
          "output_type": "execute_result",
          "data": {
            "text/plain": [
              "     Unnamed: 0                                            message  context\n",
              "0             0   ¿Cuál es el precio de un coche con 200 caballos?        1\n",
              "1             1                   ¿Cuánto cuesta un coche de 2019?        1\n",
              "2             2  Quiero un coche que tenga más de 300 caballos,...        1\n",
              "3             3        ¿Hay coches de la marca Toyota disponibles?        1\n",
              "4             4  ¿Cuánto cuesta un coche con caja de cambios au...        1\n",
              "..          ...                                                ...      ...\n",
              "352         352  Estoy buscando un modelo de Jeep con menos de ...        1\n",
              "353         353  ¿Hay algún Land Rover disponible con sistema d...        1\n",
              "354         354  Necesito un Honda con caja de cambios automáti...        1\n",
              "355         355  Quiero un Subaru del año 2017 o posterior con ...        1\n",
              "356         356  ¿Tienen algún modelo de Peugeot con motor de g...        1\n",
              "\n",
              "[357 rows x 3 columns]"
            ],
            "text/html": [
              "\n",
              "  <div id=\"df-38be5be4-a76d-4fb5-a725-ae0866b63313\">\n",
              "    <div class=\"colab-df-container\">\n",
              "      <div>\n",
              "<style scoped>\n",
              "    .dataframe tbody tr th:only-of-type {\n",
              "        vertical-align: middle;\n",
              "    }\n",
              "\n",
              "    .dataframe tbody tr th {\n",
              "        vertical-align: top;\n",
              "    }\n",
              "\n",
              "    .dataframe thead th {\n",
              "        text-align: right;\n",
              "    }\n",
              "</style>\n",
              "<table border=\"1\" class=\"dataframe\">\n",
              "  <thead>\n",
              "    <tr style=\"text-align: right;\">\n",
              "      <th></th>\n",
              "      <th>Unnamed: 0</th>\n",
              "      <th>message</th>\n",
              "      <th>context</th>\n",
              "    </tr>\n",
              "  </thead>\n",
              "  <tbody>\n",
              "    <tr>\n",
              "      <th>0</th>\n",
              "      <td>0</td>\n",
              "      <td>¿Cuál es el precio de un coche con 200 caballos?</td>\n",
              "      <td>1</td>\n",
              "    </tr>\n",
              "    <tr>\n",
              "      <th>1</th>\n",
              "      <td>1</td>\n",
              "      <td>¿Cuánto cuesta un coche de 2019?</td>\n",
              "      <td>1</td>\n",
              "    </tr>\n",
              "    <tr>\n",
              "      <th>2</th>\n",
              "      <td>2</td>\n",
              "      <td>Quiero un coche que tenga más de 300 caballos,...</td>\n",
              "      <td>1</td>\n",
              "    </tr>\n",
              "    <tr>\n",
              "      <th>3</th>\n",
              "      <td>3</td>\n",
              "      <td>¿Hay coches de la marca Toyota disponibles?</td>\n",
              "      <td>1</td>\n",
              "    </tr>\n",
              "    <tr>\n",
              "      <th>4</th>\n",
              "      <td>4</td>\n",
              "      <td>¿Cuánto cuesta un coche con caja de cambios au...</td>\n",
              "      <td>1</td>\n",
              "    </tr>\n",
              "    <tr>\n",
              "      <th>...</th>\n",
              "      <td>...</td>\n",
              "      <td>...</td>\n",
              "      <td>...</td>\n",
              "    </tr>\n",
              "    <tr>\n",
              "      <th>352</th>\n",
              "      <td>352</td>\n",
              "      <td>Estoy buscando un modelo de Jeep con menos de ...</td>\n",
              "      <td>1</td>\n",
              "    </tr>\n",
              "    <tr>\n",
              "      <th>353</th>\n",
              "      <td>353</td>\n",
              "      <td>¿Hay algún Land Rover disponible con sistema d...</td>\n",
              "      <td>1</td>\n",
              "    </tr>\n",
              "    <tr>\n",
              "      <th>354</th>\n",
              "      <td>354</td>\n",
              "      <td>Necesito un Honda con caja de cambios automáti...</td>\n",
              "      <td>1</td>\n",
              "    </tr>\n",
              "    <tr>\n",
              "      <th>355</th>\n",
              "      <td>355</td>\n",
              "      <td>Quiero un Subaru del año 2017 o posterior con ...</td>\n",
              "      <td>1</td>\n",
              "    </tr>\n",
              "    <tr>\n",
              "      <th>356</th>\n",
              "      <td>356</td>\n",
              "      <td>¿Tienen algún modelo de Peugeot con motor de g...</td>\n",
              "      <td>1</td>\n",
              "    </tr>\n",
              "  </tbody>\n",
              "</table>\n",
              "<p>357 rows × 3 columns</p>\n",
              "</div>\n",
              "      <button class=\"colab-df-convert\" onclick=\"convertToInteractive('df-38be5be4-a76d-4fb5-a725-ae0866b63313')\"\n",
              "              title=\"Convert this dataframe to an interactive table.\"\n",
              "              style=\"display:none;\">\n",
              "        \n",
              "  <svg xmlns=\"http://www.w3.org/2000/svg\" height=\"24px\"viewBox=\"0 0 24 24\"\n",
              "       width=\"24px\">\n",
              "    <path d=\"M0 0h24v24H0V0z\" fill=\"none\"/>\n",
              "    <path d=\"M18.56 5.44l.94 2.06.94-2.06 2.06-.94-2.06-.94-.94-2.06-.94 2.06-2.06.94zm-11 1L8.5 8.5l.94-2.06 2.06-.94-2.06-.94L8.5 2.5l-.94 2.06-2.06.94zm10 10l.94 2.06.94-2.06 2.06-.94-2.06-.94-.94-2.06-.94 2.06-2.06.94z\"/><path d=\"M17.41 7.96l-1.37-1.37c-.4-.4-.92-.59-1.43-.59-.52 0-1.04.2-1.43.59L10.3 9.45l-7.72 7.72c-.78.78-.78 2.05 0 2.83L4 21.41c.39.39.9.59 1.41.59.51 0 1.02-.2 1.41-.59l7.78-7.78 2.81-2.81c.8-.78.8-2.07 0-2.86zM5.41 20L4 18.59l7.72-7.72 1.47 1.35L5.41 20z\"/>\n",
              "  </svg>\n",
              "      </button>\n",
              "      \n",
              "  <style>\n",
              "    .colab-df-container {\n",
              "      display:flex;\n",
              "      flex-wrap:wrap;\n",
              "      gap: 12px;\n",
              "    }\n",
              "\n",
              "    .colab-df-convert {\n",
              "      background-color: #E8F0FE;\n",
              "      border: none;\n",
              "      border-radius: 50%;\n",
              "      cursor: pointer;\n",
              "      display: none;\n",
              "      fill: #1967D2;\n",
              "      height: 32px;\n",
              "      padding: 0 0 0 0;\n",
              "      width: 32px;\n",
              "    }\n",
              "\n",
              "    .colab-df-convert:hover {\n",
              "      background-color: #E2EBFA;\n",
              "      box-shadow: 0px 1px 2px rgba(60, 64, 67, 0.3), 0px 1px 3px 1px rgba(60, 64, 67, 0.15);\n",
              "      fill: #174EA6;\n",
              "    }\n",
              "\n",
              "    [theme=dark] .colab-df-convert {\n",
              "      background-color: #3B4455;\n",
              "      fill: #D2E3FC;\n",
              "    }\n",
              "\n",
              "    [theme=dark] .colab-df-convert:hover {\n",
              "      background-color: #434B5C;\n",
              "      box-shadow: 0px 1px 3px 1px rgba(0, 0, 0, 0.15);\n",
              "      filter: drop-shadow(0px 1px 2px rgba(0, 0, 0, 0.3));\n",
              "      fill: #FFFFFF;\n",
              "    }\n",
              "  </style>\n",
              "\n",
              "      <script>\n",
              "        const buttonEl =\n",
              "          document.querySelector('#df-38be5be4-a76d-4fb5-a725-ae0866b63313 button.colab-df-convert');\n",
              "        buttonEl.style.display =\n",
              "          google.colab.kernel.accessAllowed ? 'block' : 'none';\n",
              "\n",
              "        async function convertToInteractive(key) {\n",
              "          const element = document.querySelector('#df-38be5be4-a76d-4fb5-a725-ae0866b63313');\n",
              "          const dataTable =\n",
              "            await google.colab.kernel.invokeFunction('convertToInteractive',\n",
              "                                                     [key], {});\n",
              "          if (!dataTable) return;\n",
              "\n",
              "          const docLinkHtml = 'Like what you see? Visit the ' +\n",
              "            '<a target=\"_blank\" href=https://colab.research.google.com/notebooks/data_table.ipynb>data table notebook</a>'\n",
              "            + ' to learn more about interactive tables.';\n",
              "          element.innerHTML = '';\n",
              "          dataTable['output_type'] = 'display_data';\n",
              "          await google.colab.output.renderOutput(dataTable, element);\n",
              "          const docLink = document.createElement('div');\n",
              "          docLink.innerHTML = docLinkHtml;\n",
              "          element.appendChild(docLink);\n",
              "        }\n",
              "      </script>\n",
              "    </div>\n",
              "  </div>\n",
              "  "
            ]
          },
          "metadata": {},
          "execution_count": 40
        }
      ]
    },
    {
      "cell_type": "markdown",
      "source": [
        "## Preparación de los datos\n",
        "\n",
        "### Randomizado de los datos\n",
        "\n",
        "Necesitamos randomizar la posicion de los datos debido a que todos los de contexto 0 estan al final y los de contexto 1 al inicio"
      ],
      "metadata": {
        "id": "GNc2vAuce5pq"
      }
    },
    {
      "cell_type": "code",
      "source": [
        "message_data = message_data.sample(frac=1)\n",
        "message_data"
      ],
      "metadata": {
        "colab": {
          "base_uri": "https://localhost:8080/",
          "height": 423
        },
        "id": "pn2wEQ0DfGxF",
        "outputId": "89613fc6-31b8-4f46-fea6-c96e66bc17c0"
      },
      "execution_count": 41,
      "outputs": [
        {
          "output_type": "execute_result",
          "data": {
            "text/plain": [
              "     Unnamed: 0                                            message  context\n",
              "142         142  ¿Qué planes tienes para las vacaciones de verano?        0\n",
              "221         221            ¿Hay algún modelo con más de 7 marchas?        1\n",
              "249         249      Estoy buscando algo con año 2018 o más nuevo.        1\n",
              "129         129        ¿Has visto la película que estrenaron ayer?        0\n",
              "40           40  ¿Cuál es el precio promedio de un coche de la ...        1\n",
              "..          ...                                                ...      ...\n",
              "7             7  ¿Cuántas marchas tienen los coches de la marca...        1\n",
              "263         263  Quiero un Ferrari rojo, preferiblemente con me...        1\n",
              "175         175                            ¿Tienes alguna mascota?        0\n",
              "293         293  Estoy interesado en algo de la marca Maserati ...        1\n",
              "224         224  Estoy buscando un coche con cambio automático,...        1\n",
              "\n",
              "[357 rows x 3 columns]"
            ],
            "text/html": [
              "\n",
              "  <div id=\"df-4ccf9c5e-82a5-4371-ac1a-5bed984de39f\">\n",
              "    <div class=\"colab-df-container\">\n",
              "      <div>\n",
              "<style scoped>\n",
              "    .dataframe tbody tr th:only-of-type {\n",
              "        vertical-align: middle;\n",
              "    }\n",
              "\n",
              "    .dataframe tbody tr th {\n",
              "        vertical-align: top;\n",
              "    }\n",
              "\n",
              "    .dataframe thead th {\n",
              "        text-align: right;\n",
              "    }\n",
              "</style>\n",
              "<table border=\"1\" class=\"dataframe\">\n",
              "  <thead>\n",
              "    <tr style=\"text-align: right;\">\n",
              "      <th></th>\n",
              "      <th>Unnamed: 0</th>\n",
              "      <th>message</th>\n",
              "      <th>context</th>\n",
              "    </tr>\n",
              "  </thead>\n",
              "  <tbody>\n",
              "    <tr>\n",
              "      <th>142</th>\n",
              "      <td>142</td>\n",
              "      <td>¿Qué planes tienes para las vacaciones de verano?</td>\n",
              "      <td>0</td>\n",
              "    </tr>\n",
              "    <tr>\n",
              "      <th>221</th>\n",
              "      <td>221</td>\n",
              "      <td>¿Hay algún modelo con más de 7 marchas?</td>\n",
              "      <td>1</td>\n",
              "    </tr>\n",
              "    <tr>\n",
              "      <th>249</th>\n",
              "      <td>249</td>\n",
              "      <td>Estoy buscando algo con año 2018 o más nuevo.</td>\n",
              "      <td>1</td>\n",
              "    </tr>\n",
              "    <tr>\n",
              "      <th>129</th>\n",
              "      <td>129</td>\n",
              "      <td>¿Has visto la película que estrenaron ayer?</td>\n",
              "      <td>0</td>\n",
              "    </tr>\n",
              "    <tr>\n",
              "      <th>40</th>\n",
              "      <td>40</td>\n",
              "      <td>¿Cuál es el precio promedio de un coche de la ...</td>\n",
              "      <td>1</td>\n",
              "    </tr>\n",
              "    <tr>\n",
              "      <th>...</th>\n",
              "      <td>...</td>\n",
              "      <td>...</td>\n",
              "      <td>...</td>\n",
              "    </tr>\n",
              "    <tr>\n",
              "      <th>7</th>\n",
              "      <td>7</td>\n",
              "      <td>¿Cuántas marchas tienen los coches de la marca...</td>\n",
              "      <td>1</td>\n",
              "    </tr>\n",
              "    <tr>\n",
              "      <th>263</th>\n",
              "      <td>263</td>\n",
              "      <td>Quiero un Ferrari rojo, preferiblemente con me...</td>\n",
              "      <td>1</td>\n",
              "    </tr>\n",
              "    <tr>\n",
              "      <th>175</th>\n",
              "      <td>175</td>\n",
              "      <td>¿Tienes alguna mascota?</td>\n",
              "      <td>0</td>\n",
              "    </tr>\n",
              "    <tr>\n",
              "      <th>293</th>\n",
              "      <td>293</td>\n",
              "      <td>Estoy interesado en algo de la marca Maserati ...</td>\n",
              "      <td>1</td>\n",
              "    </tr>\n",
              "    <tr>\n",
              "      <th>224</th>\n",
              "      <td>224</td>\n",
              "      <td>Estoy buscando un coche con cambio automático,...</td>\n",
              "      <td>1</td>\n",
              "    </tr>\n",
              "  </tbody>\n",
              "</table>\n",
              "<p>357 rows × 3 columns</p>\n",
              "</div>\n",
              "      <button class=\"colab-df-convert\" onclick=\"convertToInteractive('df-4ccf9c5e-82a5-4371-ac1a-5bed984de39f')\"\n",
              "              title=\"Convert this dataframe to an interactive table.\"\n",
              "              style=\"display:none;\">\n",
              "        \n",
              "  <svg xmlns=\"http://www.w3.org/2000/svg\" height=\"24px\"viewBox=\"0 0 24 24\"\n",
              "       width=\"24px\">\n",
              "    <path d=\"M0 0h24v24H0V0z\" fill=\"none\"/>\n",
              "    <path d=\"M18.56 5.44l.94 2.06.94-2.06 2.06-.94-2.06-.94-.94-2.06-.94 2.06-2.06.94zm-11 1L8.5 8.5l.94-2.06 2.06-.94-2.06-.94L8.5 2.5l-.94 2.06-2.06.94zm10 10l.94 2.06.94-2.06 2.06-.94-2.06-.94-.94-2.06-.94 2.06-2.06.94z\"/><path d=\"M17.41 7.96l-1.37-1.37c-.4-.4-.92-.59-1.43-.59-.52 0-1.04.2-1.43.59L10.3 9.45l-7.72 7.72c-.78.78-.78 2.05 0 2.83L4 21.41c.39.39.9.59 1.41.59.51 0 1.02-.2 1.41-.59l7.78-7.78 2.81-2.81c.8-.78.8-2.07 0-2.86zM5.41 20L4 18.59l7.72-7.72 1.47 1.35L5.41 20z\"/>\n",
              "  </svg>\n",
              "      </button>\n",
              "      \n",
              "  <style>\n",
              "    .colab-df-container {\n",
              "      display:flex;\n",
              "      flex-wrap:wrap;\n",
              "      gap: 12px;\n",
              "    }\n",
              "\n",
              "    .colab-df-convert {\n",
              "      background-color: #E8F0FE;\n",
              "      border: none;\n",
              "      border-radius: 50%;\n",
              "      cursor: pointer;\n",
              "      display: none;\n",
              "      fill: #1967D2;\n",
              "      height: 32px;\n",
              "      padding: 0 0 0 0;\n",
              "      width: 32px;\n",
              "    }\n",
              "\n",
              "    .colab-df-convert:hover {\n",
              "      background-color: #E2EBFA;\n",
              "      box-shadow: 0px 1px 2px rgba(60, 64, 67, 0.3), 0px 1px 3px 1px rgba(60, 64, 67, 0.15);\n",
              "      fill: #174EA6;\n",
              "    }\n",
              "\n",
              "    [theme=dark] .colab-df-convert {\n",
              "      background-color: #3B4455;\n",
              "      fill: #D2E3FC;\n",
              "    }\n",
              "\n",
              "    [theme=dark] .colab-df-convert:hover {\n",
              "      background-color: #434B5C;\n",
              "      box-shadow: 0px 1px 3px 1px rgba(0, 0, 0, 0.15);\n",
              "      filter: drop-shadow(0px 1px 2px rgba(0, 0, 0, 0.3));\n",
              "      fill: #FFFFFF;\n",
              "    }\n",
              "  </style>\n",
              "\n",
              "      <script>\n",
              "        const buttonEl =\n",
              "          document.querySelector('#df-4ccf9c5e-82a5-4371-ac1a-5bed984de39f button.colab-df-convert');\n",
              "        buttonEl.style.display =\n",
              "          google.colab.kernel.accessAllowed ? 'block' : 'none';\n",
              "\n",
              "        async function convertToInteractive(key) {\n",
              "          const element = document.querySelector('#df-4ccf9c5e-82a5-4371-ac1a-5bed984de39f');\n",
              "          const dataTable =\n",
              "            await google.colab.kernel.invokeFunction('convertToInteractive',\n",
              "                                                     [key], {});\n",
              "          if (!dataTable) return;\n",
              "\n",
              "          const docLinkHtml = 'Like what you see? Visit the ' +\n",
              "            '<a target=\"_blank\" href=https://colab.research.google.com/notebooks/data_table.ipynb>data table notebook</a>'\n",
              "            + ' to learn more about interactive tables.';\n",
              "          element.innerHTML = '';\n",
              "          dataTable['output_type'] = 'display_data';\n",
              "          await google.colab.output.renderOutput(dataTable, element);\n",
              "          const docLink = document.createElement('div');\n",
              "          docLink.innerHTML = docLinkHtml;\n",
              "          element.appendChild(docLink);\n",
              "        }\n",
              "      </script>\n",
              "    </div>\n",
              "  </div>\n",
              "  "
            ]
          },
          "metadata": {},
          "execution_count": 41
        }
      ]
    },
    {
      "cell_type": "markdown",
      "source": [
        "### Creacion de la funcion tokenizadora\n",
        "Necesitamos crear una funcion tokenizadora para separar las palabras del texto y asi poder hacer una mejor vectorización"
      ],
      "metadata": {
        "id": "ibK36i_2exss"
      }
    },
    {
      "cell_type": "code",
      "source": [
        "import string\n",
        "\n",
        "punctuation = set(string.punctuation)\n",
        "def tokenize(sentence):\n",
        "  tokens = []\n",
        "  for token in sentence.split():\n",
        "    new_token =[]\n",
        "    for character in token: \n",
        "      if character not in punctuation:\n",
        "        new_token.append(character.lower())\n",
        "    if new_token:\n",
        "      tokens.append(\"\".join(new_token))\n",
        "  return tokens"
      ],
      "metadata": {
        "id": "ls0dyyz4e01H"
      },
      "execution_count": 42,
      "outputs": []
    },
    {
      "cell_type": "markdown",
      "source": [
        "Separación de la matrix de características  X  de los datos de salida  y  (el target)"
      ],
      "metadata": {
        "id": "XB2dCm7CfY_O"
      }
    },
    {
      "cell_type": "code",
      "source": [
        "X = message_data[\"message\"]\n",
        "X"
      ],
      "metadata": {
        "colab": {
          "base_uri": "https://localhost:8080/"
        },
        "id": "fLEM7elm_h_q",
        "outputId": "d67f4445-8278-46fa-efc3-c5898318f432"
      },
      "execution_count": 43,
      "outputs": [
        {
          "output_type": "execute_result",
          "data": {
            "text/plain": [
              "142    ¿Qué planes tienes para las vacaciones de verano?\n",
              "221              ¿Hay algún modelo con más de 7 marchas?\n",
              "249        Estoy buscando algo con año 2018 o más nuevo.\n",
              "129          ¿Has visto la película que estrenaron ayer?\n",
              "40     ¿Cuál es el precio promedio de un coche de la ...\n",
              "                             ...                        \n",
              "7      ¿Cuántas marchas tienen los coches de la marca...\n",
              "263    Quiero un Ferrari rojo, preferiblemente con me...\n",
              "175                              ¿Tienes alguna mascota?\n",
              "293    Estoy interesado en algo de la marca Maserati ...\n",
              "224    Estoy buscando un coche con cambio automático,...\n",
              "Name: message, Length: 357, dtype: object"
            ]
          },
          "metadata": {},
          "execution_count": 43
        }
      ]
    },
    {
      "cell_type": "code",
      "source": [
        "y = message_data[\"context\"]\n",
        "y"
      ],
      "metadata": {
        "colab": {
          "base_uri": "https://localhost:8080/"
        },
        "id": "QV8bQ54R_qRQ",
        "outputId": "52fcce89-fe21-43a3-d9e2-d08802a54ded"
      },
      "execution_count": 44,
      "outputs": [
        {
          "output_type": "execute_result",
          "data": {
            "text/plain": [
              "142    0\n",
              "221    1\n",
              "249    1\n",
              "129    0\n",
              "40     1\n",
              "      ..\n",
              "7      1\n",
              "263    1\n",
              "175    0\n",
              "293    1\n",
              "224    1\n",
              "Name: context, Length: 357, dtype: int64"
            ]
          },
          "metadata": {},
          "execution_count": 44
        }
      ]
    },
    {
      "cell_type": "markdown",
      "source": [
        "## Creacion de los datos de prueba\n",
        "\n",
        "Separamos el dataset en dos partes\n",
        "\n",
        "*    Datos de entrenamiento (training set) - 80%\n",
        "*    Datos de prueba (test set) - 20%"
      ],
      "metadata": {
        "id": "GH_lcRNe_9Be"
      }
    },
    {
      "cell_type": "code",
      "source": [
        "from sklearn.model_selection import train_test_split\n",
        "X_train, X_test, y_train, y_test = train_test_split(X, y, test_size=0.10, random_state=11001100)"
      ],
      "metadata": {
        "id": "kgWybJzZ_-CO"
      },
      "execution_count": 45,
      "outputs": []
    },
    {
      "cell_type": "markdown",
      "source": [
        "## Conversion texto a vector numerico\n",
        "\n",
        "Deberemos convertir el texto a vector numerico y ver la relevancia que tiene cada palabra en un mensaje y si influye en el resultado de ser 0 o 1"
      ],
      "metadata": {
        "id": "A7kW1SZrAD6M"
      }
    },
    {
      "cell_type": "code",
      "source": [
        "from sklearn.feature_extraction.text import CountVectorizer\n",
        "\n",
        "count_vect = CountVectorizer(tokenizer = tokenize, binary = True)\n",
        "X_train_tfidf = count_vect.fit_transform(X_train)"
      ],
      "metadata": {
        "colab": {
          "base_uri": "https://localhost:8080/"
        },
        "id": "9GpeuTCDAIlN",
        "outputId": "f4242e0b-3da7-42c7-ddae-936d4ea3bebe"
      },
      "execution_count": 46,
      "outputs": [
        {
          "output_type": "stream",
          "name": "stderr",
          "text": [
            "/usr/local/lib/python3.8/dist-packages/sklearn/feature_extraction/text.py:528: UserWarning: The parameter 'token_pattern' will not be used since 'tokenizer' is not None'\n",
            "  warnings.warn(\n"
          ]
        }
      ]
    },
    {
      "cell_type": "markdown",
      "source": [
        "## Entrenamiento del modelo\n",
        "\n",
        "### Modelo MultinomialNB"
      ],
      "metadata": {
        "id": "eDc6G_PMAM4O"
      }
    },
    {
      "cell_type": "code",
      "source": [
        "from sklearn.naive_bayes import MultinomialNB\n",
        "\n",
        "message_model = MultinomialNB().fit(X_train_tfidf, y_train)"
      ],
      "metadata": {
        "id": "4fwlUqwFAOu1"
      },
      "execution_count": 47,
      "outputs": []
    },
    {
      "cell_type": "markdown",
      "source": [
        "### Aciertos y Fallos"
      ],
      "metadata": {
        "id": "_WUxpJ8uASDb"
      }
    },
    {
      "cell_type": "code",
      "source": [
        "y_pred = message_model.predict(count_vect.transform(X_test))\n",
        "\n",
        "print(\"Aciertos\")\n",
        "aciertos = np.count_nonzero(y_test == y_pred)\n",
        "print(f\"Hubo {aciertos} Aciertos y {len(y_test) - aciertos} fallos\")\n",
        "print(f\"Hubo un porcentaje de {aciertos * 100 / len(y_test)}% aciertos\")"
      ],
      "metadata": {
        "colab": {
          "base_uri": "https://localhost:8080/"
        },
        "id": "v6Mv_Yh8AWmu",
        "outputId": "8b2a8c4b-1950-41bc-c6cb-7b0c77d6c499"
      },
      "execution_count": 48,
      "outputs": [
        {
          "output_type": "stream",
          "name": "stdout",
          "text": [
            "Aciertos\n",
            "Hubo 35 Aciertos y 1 fallos\n",
            "Hubo un porcentaje de 97.22222222222223% aciertos\n"
          ]
        }
      ]
    },
    {
      "cell_type": "code",
      "source": [
        "# Mensaje de consulta\n",
        "print(message_model.predict(count_vect.transform([\"\"\"quiero ver unos coches too chulos\"\"\"]))) # la grafica mostraria coches randoms xd\n",
        "# Mensaje de consulta\n",
        "print(message_model.predict(count_vect.transform([\"\"\"Me gustaria ver coches de la marca BMW y con 500000km\"\"\"])))\n",
        "# Mensaje de consulta\n",
        "print(message_model.predict(count_vect.transform([\"\"\"Enseña los coches de 100CC y con cambio de marcha manual\"\"\"])))\n",
        "# Mensaje de consulta\n",
        "print(message_model.predict(count_vect.transform([\"\"\"Enseñame algo que sea un mercedes de 2010\"\"\"])))\n",
        "# Mensaje de consulta\n",
        "print(message_model.predict(count_vect.transform([\"\"\"Me gustaria ver algo que sea del año 2020\"\"\"])))\n",
        "# Mensaje de consulta\n",
        "print(message_model.predict(count_vect.transform([\"\"\"Me gustaria ver algo que sea del que tenga 200cc de cilindrada\"\"\"])))\n",
        "# Mensaje random\n",
        "print(message_model.predict(count_vect.transform([\"\"\"El final de snk es kk\"\"\"])))\n",
        "# Mensaje random\n",
        "print(message_model.predict(count_vect.transform([\"\"\"Quiero una hamburguesa del año 2000\"\"\"])))\n",
        "# Mensaje random\n",
        "print(message_model.predict(count_vect.transform([\"\"\"Pagame perro >:V\"\"\"])))\n",
        "# Mensaje de consulta\n",
        "print(message_model.predict(count_vect.transform([\"\"\"Muestrame los coches de madrid\"\"\"])))"
      ],
      "metadata": {
        "colab": {
          "base_uri": "https://localhost:8080/"
        },
        "id": "V3Q2Y7YSV-dV",
        "outputId": "eac216bc-5fe6-4e7d-c16d-762c630a1c50"
      },
      "execution_count": 49,
      "outputs": [
        {
          "output_type": "stream",
          "name": "stdout",
          "text": [
            "[1]\n",
            "[1]\n",
            "[1]\n",
            "[1]\n",
            "[1]\n",
            "[1]\n",
            "[1]\n",
            "[1]\n",
            "[1]\n",
            "[1]\n"
          ]
        }
      ]
    },
    {
      "cell_type": "markdown",
      "source": [
        "### Modelo LinealSVC"
      ],
      "metadata": {
        "id": "ZwrgDs68BAWL"
      }
    },
    {
      "cell_type": "code",
      "source": [
        "from sklearn.svm import LinearSVC\n",
        "\n",
        "message_model = LinearSVC().fit(X_train_tfidf, y_train)"
      ],
      "metadata": {
        "id": "xsRWuH7gBAru"
      },
      "execution_count": 50,
      "outputs": []
    },
    {
      "cell_type": "markdown",
      "source": [
        "### Aciertos y Fallos"
      ],
      "metadata": {
        "id": "HxFVjzQoBLnM"
      }
    },
    {
      "cell_type": "code",
      "source": [
        "y_pred = message_model.predict(count_vect.transform(X_test))\n",
        "\n",
        "print(\"Aciertos\")\n",
        "aciertos = np.count_nonzero(y_test == y_pred)\n",
        "print(f\"Hubo {aciertos} Aciertos y {len(y_test) - aciertos} fallos\")\n",
        "print(f\"Hubo un porcentaje de {aciertos * 100 / len(y_test)}% aciertos\")"
      ],
      "metadata": {
        "colab": {
          "base_uri": "https://localhost:8080/"
        },
        "id": "MZz63VOOBNqI",
        "outputId": "909e4a69-8bef-43b8-f208-ada6402fd962"
      },
      "execution_count": 51,
      "outputs": [
        {
          "output_type": "stream",
          "name": "stdout",
          "text": [
            "Aciertos\n",
            "Hubo 35 Aciertos y 1 fallos\n",
            "Hubo un porcentaje de 97.22222222222223% aciertos\n"
          ]
        }
      ]
    },
    {
      "cell_type": "code",
      "source": [
        "# Mensaje de consulta\n",
        "print(message_model.predict(count_vect.transform([\"\"\"quiero ver unos coches too chulos\"\"\"]))) # la grafica mostraria coches randoms xd\n",
        "# Mensaje de consulta\n",
        "print(message_model.predict(count_vect.transform([\"\"\"Me gustaria ver coches de la marca BMW y con 500000km\"\"\"])))\n",
        "# Mensaje de consulta\n",
        "print(message_model.predict(count_vect.transform([\"\"\"Enseña los coches de 100CC y con cambio de marcha manual\"\"\"])))\n",
        "# Mensaje de consulta\n",
        "print(message_model.predict(count_vect.transform([\"\"\"Enseñame algo que sea un mercedes de 2010\"\"\"])))\n",
        "# Mensaje de consulta\n",
        "print(message_model.predict(count_vect.transform([\"\"\"Me gustaria ver algo que sea del año 2020\"\"\"])))\n",
        "# Mensaje de consulta\n",
        "print(message_model.predict(count_vect.transform([\"\"\"Me gustaria ver algo que sea del que tenga 200cc de cilindrada\"\"\"])))\n",
        "# Mensaje random\n",
        "print(message_model.predict(count_vect.transform([\"\"\"El final de snk es kk\"\"\"])))\n",
        "# Mensaje random\n",
        "print(message_model.predict(count_vect.transform([\"\"\"Quiero una hamburguesa del año 2000\"\"\"])))\n",
        "# Mensaje random\n",
        "print(message_model.predict(count_vect.transform([\"\"\"Pagame perro >:V\"\"\"])))\n",
        "# Mensaje de consulta\n",
        "print(message_model.predict(count_vect.transform([\"\"\"Muestrame los coches de madrid\"\"\"])))"
      ],
      "metadata": {
        "colab": {
          "base_uri": "https://localhost:8080/"
        },
        "id": "XITdKtPYBThB",
        "outputId": "4846acb1-0e07-47a4-c53d-08d066de2f07"
      },
      "execution_count": 52,
      "outputs": [
        {
          "output_type": "stream",
          "name": "stdout",
          "text": [
            "[1]\n",
            "[1]\n",
            "[1]\n",
            "[1]\n",
            "[1]\n",
            "[1]\n",
            "[0]\n",
            "[0]\n",
            "[0]\n",
            "[1]\n"
          ]
        }
      ]
    },
    {
      "cell_type": "markdown",
      "source": [
        "### Modelo Random Forest"
      ],
      "metadata": {
        "id": "3YrMYeuZWH24"
      }
    },
    {
      "cell_type": "code",
      "source": [
        "from sklearn.ensemble import RandomForestClassifier\n",
        "\n",
        "message_model = RandomForestClassifier(max_depth=29).fit(X_train_tfidf, y_train)"
      ],
      "metadata": {
        "id": "3ieijItZWFx5"
      },
      "execution_count": 61,
      "outputs": []
    },
    {
      "cell_type": "markdown",
      "source": [
        "### Aciertos y fallos"
      ],
      "metadata": {
        "id": "6_dLqdcgWObS"
      }
    },
    {
      "cell_type": "code",
      "source": [
        "y_pred = message_model.predict(count_vect.transform(X_test))\n",
        "\n",
        "print(\"Aciertos\")\n",
        "aciertos = np.count_nonzero(y_test == y_pred)\n",
        "print(f\"Hubo {aciertos} Aciertos y {len(y_test) - aciertos} fallos\")\n",
        "print(f\"Hubo un porcentaje de {aciertos * 100 / len(y_test)}% aciertos\")"
      ],
      "metadata": {
        "colab": {
          "base_uri": "https://localhost:8080/"
        },
        "id": "q7i6BQ6wWSGk",
        "outputId": "f99d1075-825b-444a-b8ec-d914a987d116"
      },
      "execution_count": 62,
      "outputs": [
        {
          "output_type": "stream",
          "name": "stdout",
          "text": [
            "Aciertos\n",
            "Hubo 35 Aciertos y 1 fallos\n",
            "Hubo un porcentaje de 97.22222222222223% aciertos\n"
          ]
        }
      ]
    },
    {
      "cell_type": "code",
      "source": [
        "# Mensaje de consulta\n",
        "print(message_model.predict(count_vect.transform([\"\"\"quiero ver unos coches too chulos\"\"\"]))) # la grafica mostraria coches randoms xd\n",
        "# Mensaje de consulta\n",
        "print(message_model.predict(count_vect.transform([\"\"\"Me gustaria ver coches de la marca BMW y con 500000km\"\"\"])))\n",
        "# Mensaje de consulta\n",
        "print(message_model.predict(count_vect.transform([\"\"\"Enseña los coches de 100CC y con cambio de marcha manual\"\"\"])))\n",
        "# Mensaje de consulta\n",
        "print(message_model.predict(count_vect.transform([\"\"\"Enseñame algo que sea un mercedes de 2010\"\"\"])))\n",
        "# Mensaje de consulta\n",
        "print(message_model.predict(count_vect.transform([\"\"\"Me gustaria ver algo que sea del que tenga 200cc de cilindrada\"\"\"])))\n",
        "# Mensaje random\n",
        "print(message_model.predict(count_vect.transform([\"\"\"El final de snk es kk\"\"\"])))\n",
        "# Mensaje random\n",
        "print(message_model.predict(count_vect.transform([\"\"\"Quiero una hamburguesa del año 2000\"\"\"])))\n",
        "# Mensaje de consulta\n",
        "print(message_model.predict(count_vect.transform([\"\"\"Quiero coches de 2004\"\"\"])))\n",
        "# Mensaje random\n",
        "print(message_model.predict(count_vect.transform([\"\"\"Pagame perro >:V\"\"\"])))\n",
        "# Mensaje de consulta\n",
        "print(message_model.predict(count_vect.transform([\"\"\"Muestrame los coches de madrid\"\"\"])))\n",
        "# Mensaje de consulta\n",
        "print(message_model.predict(count_vect.transform([\"\"\"Muestrame los bmw de madrid del año 2018\"\"\"])))"
      ],
      "metadata": {
        "colab": {
          "base_uri": "https://localhost:8080/"
        },
        "id": "6Dxo6RpgWWRW",
        "outputId": "ad179aad-b95d-4942-c83f-b1dc13286f41"
      },
      "execution_count": 63,
      "outputs": [
        {
          "output_type": "stream",
          "name": "stdout",
          "text": [
            "[1]\n",
            "[1]\n",
            "[1]\n",
            "[1]\n",
            "[1]\n",
            "[0]\n",
            "[0]\n",
            "[1]\n",
            "[0]\n",
            "[1]\n",
            "[1]\n"
          ]
        }
      ]
    },
    {
      "cell_type": "markdown",
      "source": [
        "## Exportación del modelo"
      ],
      "metadata": {
        "id": "Asnrobi6ZMfM"
      }
    },
    {
      "cell_type": "code",
      "source": [
        "import joblib"
      ],
      "metadata": {
        "id": "dmrg6jvsZQUJ"
      },
      "execution_count": 56,
      "outputs": []
    },
    {
      "cell_type": "code",
      "source": [
        "joblib.dump(message_model, \"message_model.pkl\")"
      ],
      "metadata": {
        "colab": {
          "base_uri": "https://localhost:8080/"
        },
        "id": "7ETF0DkPZSF5",
        "outputId": "e2e0837d-994b-4729-9385-6549ed17c975"
      },
      "execution_count": 57,
      "outputs": [
        {
          "output_type": "execute_result",
          "data": {
            "text/plain": [
              "['message_model.pkl']"
            ]
          },
          "metadata": {},
          "execution_count": 57
        }
      ]
    }
  ]
}